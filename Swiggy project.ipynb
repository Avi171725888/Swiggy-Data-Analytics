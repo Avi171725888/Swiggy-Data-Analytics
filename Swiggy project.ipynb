{
 "cells": [
  {
   "cell_type": "code",
   "execution_count": 2,
   "id": "daa1260c-38ee-4b45-aa0f-9eb1f69395a4",
   "metadata": {},
   "outputs": [],
   "source": [
    "import pandas as pd\n",
    "import numpy as np\n",
    "import seaborn as sns\n",
    "import matplotlib.pyplot as plt"
   ]
  },
  {
   "cell_type": "code",
   "execution_count": 7,
   "id": "b0ba5453-a982-4ba4-8fc2-1b0e68cc814e",
   "metadata": {},
   "outputs": [],
   "source": [
    "##read the csv file in pandas dataframe\n",
    "df=pd.read_csv(\"Swiggy Bangalore Outlet Details.csv\")"
   ]
  },
  {
   "cell_type": "code",
   "execution_count": 8,
   "id": "00145e8f-2336-48e4-bb94-b1e3417dbba9",
   "metadata": {},
   "outputs": [
    {
     "data": {
      "text/html": [
       "<div>\n",
       "<style scoped>\n",
       "    .dataframe tbody tr th:only-of-type {\n",
       "        vertical-align: middle;\n",
       "    }\n",
       "\n",
       "    .dataframe tbody tr th {\n",
       "        vertical-align: top;\n",
       "    }\n",
       "\n",
       "    .dataframe thead th {\n",
       "        text-align: right;\n",
       "    }\n",
       "</style>\n",
       "<table border=\"1\" class=\"dataframe\">\n",
       "  <thead>\n",
       "    <tr style=\"text-align: right;\">\n",
       "      <th></th>\n",
       "      <th>Shop_Name</th>\n",
       "      <th>Cuisine</th>\n",
       "      <th>Location</th>\n",
       "      <th>Rating</th>\n",
       "      <th>Cost_for_Two</th>\n",
       "    </tr>\n",
       "  </thead>\n",
       "  <tbody>\n",
       "    <tr>\n",
       "      <th>0</th>\n",
       "      <td>Kanti Sweets</td>\n",
       "      <td>Sweets</td>\n",
       "      <td>Koramangala, Koramangala</td>\n",
       "      <td>4.3</td>\n",
       "      <td>₹ 150</td>\n",
       "    </tr>\n",
       "    <tr>\n",
       "      <th>1</th>\n",
       "      <td>Mumbai Tiffin</td>\n",
       "      <td>North Indian, Home Food, Thalis, Combo</td>\n",
       "      <td>Sector 5, HSR</td>\n",
       "      <td>4.4</td>\n",
       "      <td>₹ 400</td>\n",
       "    </tr>\n",
       "    <tr>\n",
       "      <th>2</th>\n",
       "      <td>Sri Krishna sagar</td>\n",
       "      <td>South Indian, North Indian, Fast Food, Beverag...</td>\n",
       "      <td>6th Block, Koramangala</td>\n",
       "      <td>4.1</td>\n",
       "      <td>₹ 126</td>\n",
       "    </tr>\n",
       "    <tr>\n",
       "      <th>3</th>\n",
       "      <td>Al Daaz</td>\n",
       "      <td>American, Arabian, Chinese, Desserts, Fast Foo...</td>\n",
       "      <td>HSR, HSR</td>\n",
       "      <td>4.4</td>\n",
       "      <td>₹ 400</td>\n",
       "    </tr>\n",
       "    <tr>\n",
       "      <th>4</th>\n",
       "      <td>Beijing Bites</td>\n",
       "      <td>Chinese, Thai</td>\n",
       "      <td>5th Block, Koramangala</td>\n",
       "      <td>4.1</td>\n",
       "      <td>₹ 450</td>\n",
       "    </tr>\n",
       "  </tbody>\n",
       "</table>\n",
       "</div>"
      ],
      "text/plain": [
       "           Shop_Name                                            Cuisine  \\\n",
       "0       Kanti Sweets                                             Sweets   \n",
       "1      Mumbai Tiffin             North Indian, Home Food, Thalis, Combo   \n",
       "2  Sri Krishna sagar  South Indian, North Indian, Fast Food, Beverag...   \n",
       "3            Al Daaz  American, Arabian, Chinese, Desserts, Fast Foo...   \n",
       "4      Beijing Bites                                      Chinese, Thai   \n",
       "\n",
       "                   Location Rating Cost_for_Two  \n",
       "0  Koramangala, Koramangala    4.3        ₹ 150  \n",
       "1             Sector 5, HSR    4.4        ₹ 400  \n",
       "2    6th Block, Koramangala    4.1        ₹ 126  \n",
       "3                  HSR, HSR    4.4        ₹ 400  \n",
       "4    5th Block, Koramangala    4.1        ₹ 450  "
      ]
     },
     "execution_count": 8,
     "metadata": {},
     "output_type": "execute_result"
    }
   ],
   "source": [
    "df.head()"
   ]
  },
  {
   "cell_type": "code",
   "execution_count": 9,
   "id": "cba124ff-8f5f-4401-9892-a1da9ba1265a",
   "metadata": {},
   "outputs": [
    {
     "name": "stdout",
     "output_type": "stream",
     "text": [
      "<class 'pandas.core.frame.DataFrame'>\n",
      "RangeIndex: 118 entries, 0 to 117\n",
      "Data columns (total 5 columns):\n",
      " #   Column        Non-Null Count  Dtype \n",
      "---  ------        --------------  ----- \n",
      " 0   Shop_Name     118 non-null    object\n",
      " 1   Cuisine       118 non-null    object\n",
      " 2   Location      118 non-null    object\n",
      " 3   Rating        118 non-null    object\n",
      " 4   Cost_for_Two  118 non-null    object\n",
      "dtypes: object(5)\n",
      "memory usage: 4.7+ KB\n"
     ]
    }
   ],
   "source": [
    "df.info()"
   ]
  },
  {
   "cell_type": "code",
   "execution_count": 10,
   "id": "3f159e0a-5a4e-423a-b062-4e66523425e7",
   "metadata": {},
   "outputs": [
    {
     "data": {
      "text/plain": [
       "Shop_Name       0\n",
       "Cuisine         0\n",
       "Location        0\n",
       "Rating          0\n",
       "Cost_for_Two    0\n",
       "dtype: int64"
      ]
     },
     "execution_count": 10,
     "metadata": {},
     "output_type": "execute_result"
    }
   ],
   "source": [
    "df.isna().sum()"
   ]
  },
  {
   "cell_type": "code",
   "execution_count": 22,
   "id": "d0ccc6d8-020f-4c94-995a-4e45cf341482",
   "metadata": {},
   "outputs": [
    {
     "data": {
      "text/plain": [
       "0       Koramangala\n",
       "1               HSR\n",
       "2       Koramangala\n",
       "3               HSR\n",
       "4       Koramangala\n",
       "           ...     \n",
       "113     Koramangala\n",
       "114             BTM\n",
       "115     Koramangala\n",
       "116     Koramangala\n",
       "117     Koramangala\n",
       "Name: Location, Length: 118, dtype: object"
      ]
     },
     "execution_count": 22,
     "metadata": {},
     "output_type": "execute_result"
    }
   ],
   "source": [
    "df[\"Location\"].str.split(',').str[1]"
   ]
  },
  {
   "cell_type": "code",
   "execution_count": 23,
   "id": "a2038ae2-3430-4d79-8239-a7df873b60d5",
   "metadata": {},
   "outputs": [],
   "source": [
    "df[\"Town\"]=df[\"Location\"].str.split(',').str[1]"
   ]
  },
  {
   "cell_type": "code",
   "execution_count": 24,
   "id": "9706bdf4-512b-415a-a605-44a6359b878d",
   "metadata": {},
   "outputs": [],
   "source": [
    "df[\"Area\"]=df[\"Location\"].str.split(',').str[0]"
   ]
  },
  {
   "cell_type": "code",
   "execution_count": 25,
   "id": "5f80bd3e-c278-424a-b068-8bd836e2ff0c",
   "metadata": {},
   "outputs": [
    {
     "data": {
      "text/html": [
       "<div>\n",
       "<style scoped>\n",
       "    .dataframe tbody tr th:only-of-type {\n",
       "        vertical-align: middle;\n",
       "    }\n",
       "\n",
       "    .dataframe tbody tr th {\n",
       "        vertical-align: top;\n",
       "    }\n",
       "\n",
       "    .dataframe thead th {\n",
       "        text-align: right;\n",
       "    }\n",
       "</style>\n",
       "<table border=\"1\" class=\"dataframe\">\n",
       "  <thead>\n",
       "    <tr style=\"text-align: right;\">\n",
       "      <th></th>\n",
       "      <th>Shop_Name</th>\n",
       "      <th>Cuisine</th>\n",
       "      <th>Location</th>\n",
       "      <th>Rating</th>\n",
       "      <th>Cost_for_Two</th>\n",
       "      <th>Town</th>\n",
       "      <th>Area</th>\n",
       "    </tr>\n",
       "  </thead>\n",
       "  <tbody>\n",
       "    <tr>\n",
       "      <th>0</th>\n",
       "      <td>Kanti Sweets</td>\n",
       "      <td>Sweets</td>\n",
       "      <td>Koramangala, Koramangala</td>\n",
       "      <td>4.3</td>\n",
       "      <td>₹ 150</td>\n",
       "      <td>Koramangala</td>\n",
       "      <td>Koramangala</td>\n",
       "    </tr>\n",
       "    <tr>\n",
       "      <th>1</th>\n",
       "      <td>Mumbai Tiffin</td>\n",
       "      <td>North Indian, Home Food, Thalis, Combo</td>\n",
       "      <td>Sector 5, HSR</td>\n",
       "      <td>4.4</td>\n",
       "      <td>₹ 400</td>\n",
       "      <td>HSR</td>\n",
       "      <td>Sector 5</td>\n",
       "    </tr>\n",
       "    <tr>\n",
       "      <th>2</th>\n",
       "      <td>Sri Krishna sagar</td>\n",
       "      <td>South Indian, North Indian, Fast Food, Beverag...</td>\n",
       "      <td>6th Block, Koramangala</td>\n",
       "      <td>4.1</td>\n",
       "      <td>₹ 126</td>\n",
       "      <td>Koramangala</td>\n",
       "      <td>6th Block</td>\n",
       "    </tr>\n",
       "    <tr>\n",
       "      <th>3</th>\n",
       "      <td>Al Daaz</td>\n",
       "      <td>American, Arabian, Chinese, Desserts, Fast Foo...</td>\n",
       "      <td>HSR, HSR</td>\n",
       "      <td>4.4</td>\n",
       "      <td>₹ 400</td>\n",
       "      <td>HSR</td>\n",
       "      <td>HSR</td>\n",
       "    </tr>\n",
       "    <tr>\n",
       "      <th>4</th>\n",
       "      <td>Beijing Bites</td>\n",
       "      <td>Chinese, Thai</td>\n",
       "      <td>5th Block, Koramangala</td>\n",
       "      <td>4.1</td>\n",
       "      <td>₹ 450</td>\n",
       "      <td>Koramangala</td>\n",
       "      <td>5th Block</td>\n",
       "    </tr>\n",
       "  </tbody>\n",
       "</table>\n",
       "</div>"
      ],
      "text/plain": [
       "           Shop_Name                                            Cuisine  \\\n",
       "0       Kanti Sweets                                             Sweets   \n",
       "1      Mumbai Tiffin             North Indian, Home Food, Thalis, Combo   \n",
       "2  Sri Krishna sagar  South Indian, North Indian, Fast Food, Beverag...   \n",
       "3            Al Daaz  American, Arabian, Chinese, Desserts, Fast Foo...   \n",
       "4      Beijing Bites                                      Chinese, Thai   \n",
       "\n",
       "                   Location Rating Cost_for_Two          Town         Area  \n",
       "0  Koramangala, Koramangala    4.3        ₹ 150   Koramangala  Koramangala  \n",
       "1             Sector 5, HSR    4.4        ₹ 400           HSR     Sector 5  \n",
       "2    6th Block, Koramangala    4.1        ₹ 126   Koramangala    6th Block  \n",
       "3                  HSR, HSR    4.4        ₹ 400           HSR          HSR  \n",
       "4    5th Block, Koramangala    4.1        ₹ 450   Koramangala    5th Block  "
      ]
     },
     "execution_count": 25,
     "metadata": {},
     "output_type": "execute_result"
    }
   ],
   "source": [
    "df.head()"
   ]
  },
  {
   "cell_type": "markdown",
   "id": "47c96aee-e2f4-4815-9379-d41583ff9a57",
   "metadata": {},
   "source": [
    "## Top 10 Cuisine ordered On Swiggy and Most of shops have?"
   ]
  },
  {
   "cell_type": "code",
   "execution_count": 85,
   "id": "61c48a16-4d35-4f15-9507-bc4bafa3de85",
   "metadata": {},
   "outputs": [
    {
     "data": {
      "text/plain": [
       "North Indian                      12\n",
       "Desserts                           5\n",
       "Biryani                            4\n",
       "Chinese                            4\n",
       "Andhra, Biryani                    3\n",
       "North Indian, South Indian         3\n",
       "North Indian, Chinese, Biryani     3\n",
       "South Indian                       3\n",
       "American, Fast Food                3\n",
       "Ice Cream, Desserts                2\n",
       "Name: Cuisine, dtype: int64"
      ]
     },
     "execution_count": 85,
     "metadata": {},
     "output_type": "execute_result"
    }
   ],
   "source": [
    "df[\"Cuisine\"].value_counts()[:10]"
   ]
  },
  {
   "cell_type": "code",
   "execution_count": 88,
   "id": "1f5bccf8-e0ed-43fb-9c6b-54d3a2614f67",
   "metadata": {},
   "outputs": [
    {
     "data": {
      "text/plain": [
       "Text(0, 0.5, 'Counts of orders')"
      ]
     },
     "execution_count": 88,
     "metadata": {},
     "output_type": "execute_result"
    },
    {
     "data": {
      "image/png": "[encoded data removed]",
      "text/plain": [
       "<Figure size 1000x1000 with 1 Axes>"
      ]
     },
     "metadata": {},
     "output_type": "display_data"
    }
   ],
   "source": [
    "plt.figure(figsize=(10,10))\n",
    "df[\"Cuisine\"].value_counts()[:10].plot(kind=\"bar\")\n",
    "plt.title(\"Most of the Shops have Cuisine/Top 10\")\n",
    "plt.xlabel(\"Cuisine\")\n",
    "plt.ylabel(\"Counts of orders\")"
   ]
  },
  {
   "cell_type": "markdown",
   "id": "863bcc9f-59cb-4a89-b23d-2fb43b500b90",
   "metadata": {},
   "source": [
    "# Conclusions\n",
    "* North Indian Foods are mostly ordered by customers.\n",
    "* Each and Every Shops should keep to North Indian food to increase there Orders"
   ]
  },
  {
   "cell_type": "markdown",
   "id": "5aae0947-7b84-4d3e-baa1-5d1999102146",
   "metadata": {},
   "source": [
    "## Which Town in Bangalore orders most from Swiggy?"
   ]
  },
  {
   "cell_type": "code",
   "execution_count": 91,
   "id": "d8dbec74-60e1-48a1-a1d1-9f748e83a2d7",
   "metadata": {},
   "outputs": [
    {
     "data": {
      "text/plain": [
       " Koramangala         63\n",
       " BTM                 33\n",
       " HSR                 16\n",
       " 2nd Stage            1\n",
       " 5th Block            1\n",
       " Teacher's Colony     1\n",
       " Jayanagar            1\n",
       " Stage 2              1\n",
       " Sector 6             1\n",
       "Name: Town, dtype: int64"
      ]
     },
     "execution_count": 95,
     "metadata": {},
     "output_type": "execute_result"
    }
   ],
   "source": [
    "df[\"Town\"].value_counts()"
   ]
  },
  {
   "cell_type": "code",
   "execution_count": 89,
   "id": "e570ccb3-8ae2-4374-ae71-5beb4609fb71",
   "metadata": {},
   "outputs": [
    {
     "data": {
      "text/plain": [
       "Text(0, 0.5, 'Counts of orders')"
      ]
     },
     "execution_count": 96,
     "metadata": {},
     "output_type": "execute_result"
    },
    {
     "data": {
      "image/png": "[encoded data removed]",
      "text/plain": [
       "<Figure size 1000x1000 with 1 Axes>"
      ]
     },
     "metadata": {},
     "output_type": "display_data"
    }
   ],
   "source": [
    "plt.figure(figsize=(10,10))\n",
    "df[\"Town\"].value_counts().plot(kind=\"bar\")\n",
    "plt.title(\"Towns That mostly Order From Swiggy\")\n",
    "plt.xlabel(\"Towns\")\n",
    "plt.ylabel(\"Counts of orders\")"
   ]
  },
  {
   "cell_type": "markdown",
   "id": "cd7a4a94-f2a5-49f9-8873-18cce03a1c77",
   "metadata": {},
   "source": [
    "# Conclusions\n",
    "* Koramangala Town in Bangalore Orders most from Swiggy.\n",
    "* So Koramangala is the best for starting new Shops in Bangalore."
   ]
  },
  {
   "cell_type": "markdown",
   "id": "41d92dd7-50d6-4e6f-b629-c44a9f8ae697",
   "metadata": {},
   "source": [
    "# Where are most of the shops located and which are the most ordered Areas in Bangalore?"
   ]
  },
  {
   "cell_type": "code",
   "execution_count": 92,
   "id": "0793cd41-9dc6-4194-8428-0041441f00d5",
   "metadata": {},
   "outputs": [
    {
     "data": {
      "text/plain": [
       "BTM               13\n",
       "Koramangala       12\n",
       "5th Block         10\n",
       "HSR                8\n",
       "7th Block          5\n",
       "1st Block          5\n",
       "6th Block          5\n",
       "4th Cross          3\n",
       "4th Block          2\n",
       "16th Main Road     2\n",
       "Name: Area, dtype: int64"
      ]
     },
     "execution_count": 92,
     "metadata": {},
     "output_type": "execute_result"
    }
   ],
   "source": [
    "df[\"Area\"].value_counts()[:10]"
   ]
  },
  {
   "cell_type": "code",
   "execution_count": 94,
   "id": "22b33e24-74ec-4d5c-91c7-cfa7d66b4dff",
   "metadata": {},
   "outputs": [
    {
     "data": {
      "text/plain": [
       "Text(0, 0.5, 'Counts of orders')"
      ]
     },
     "execution_count": 94,
     "metadata": {},
     "output_type": "execute_result"
    },
    {
     "data": {
      "image/png": "[encoded data removed]",
      "text/plain": [
       "<Figure size 1000x1000 with 1 Axes>"
      ]
     },
     "metadata": {},
     "output_type": "display_data"
    }
   ],
   "source": [
    "plt.figure(figsize=(10,10))\n",
    "df[\"Area\"].value_counts()[:10].plot(kind=\"bar\")\n",
    "plt.title(\"Areas That mostly Order From Swiggy\")\n",
    "plt.xlabel(\"Areas\")\n",
    "plt.ylabel(\"Counts of orders\")"
   ]
  },
  {
   "cell_type": "markdown",
   "id": "16da9a81-ff1e-446a-b8c5-4996739f7ea9",
   "metadata": {},
   "source": [
    "# Conclusion\n",
    "* BTM area of Bangalore orders Most From Swiggy.\n",
    "* Most of the Shops Are located in BTM area of Bangalore."
   ]
  },
  {
   "cell_type": "markdown",
   "id": "ea9b5566-9104-4d80-9c0b-f67601b68940",
   "metadata": {},
   "source": [
    "# Top 5 highest Ratings shops in Bangalore?"
   ]
  },
  {
   "cell_type": "code",
   "execution_count": 103,
   "id": "2663bf72-714e-4635-b7f0-ed3cfdf88dad",
   "metadata": {},
   "outputs": [
    {
     "data": {
      "text/html": [
       "<div>\n",
       "<style scoped>\n",
       "    .dataframe tbody tr th:only-of-type {\n",
       "        vertical-align: middle;\n",
       "    }\n",
       "\n",
       "    .dataframe tbody tr th {\n",
       "        vertical-align: top;\n",
       "    }\n",
       "\n",
       "    .dataframe thead th {\n",
       "        text-align: right;\n",
       "    }\n",
       "</style>\n",
       "<table border=\"1\" class=\"dataframe\">\n",
       "  <thead>\n",
       "    <tr style=\"text-align: right;\">\n",
       "      <th></th>\n",
       "      <th>Shop_Name</th>\n",
       "      <th>Cuisine</th>\n",
       "      <th>Location</th>\n",
       "      <th>Rating</th>\n",
       "      <th>Cost_for_Two</th>\n",
       "      <th>Town</th>\n",
       "      <th>Area</th>\n",
       "    </tr>\n",
       "  </thead>\n",
       "  <tbody>\n",
       "    <tr>\n",
       "      <th>78</th>\n",
       "      <td>Khichdi Experiment</td>\n",
       "      <td>Home Food, Healthy Food, Indian</td>\n",
       "      <td>Koramangala, Koramangala</td>\n",
       "      <td>4.8</td>\n",
       "      <td>₹ 200</td>\n",
       "      <td>Koramangala</td>\n",
       "      <td>Koramangala</td>\n",
       "    </tr>\n",
       "    <tr>\n",
       "      <th>94</th>\n",
       "      <td>Corner House Ice Cream</td>\n",
       "      <td>Ice Cream, Desserts</td>\n",
       "      <td>7th Block, Koramangala</td>\n",
       "      <td>4.6</td>\n",
       "      <td>₹ 250</td>\n",
       "      <td>Koramangala</td>\n",
       "      <td>7th Block</td>\n",
       "    </tr>\n",
       "    <tr>\n",
       "      <th>82</th>\n",
       "      <td>Natural Ice Cream</td>\n",
       "      <td>Ice Cream</td>\n",
       "      <td>Near Wipro Park Signal, Koramangala</td>\n",
       "      <td>4.6</td>\n",
       "      <td>₹ 150</td>\n",
       "      <td>Koramangala</td>\n",
       "      <td>Near Wipro Park Signal</td>\n",
       "    </tr>\n",
       "    <tr>\n",
       "      <th>80</th>\n",
       "      <td>Chinese Bae</td>\n",
       "      <td>Chinese, Thai</td>\n",
       "      <td>BTM, BTM</td>\n",
       "      <td>4.5</td>\n",
       "      <td>₹ 450</td>\n",
       "      <td>BTM</td>\n",
       "      <td>BTM</td>\n",
       "    </tr>\n",
       "    <tr>\n",
       "      <th>3</th>\n",
       "      <td>Al Daaz</td>\n",
       "      <td>American, Arabian, Chinese, Desserts, Fast Foo...</td>\n",
       "      <td>HSR, HSR</td>\n",
       "      <td>4.4</td>\n",
       "      <td>₹ 400</td>\n",
       "      <td>HSR</td>\n",
       "      <td>HSR</td>\n",
       "    </tr>\n",
       "  </tbody>\n",
       "</table>\n",
       "</div>"
      ],
      "text/plain": [
       "                 Shop_Name                                            Cuisine  \\\n",
       "78      Khichdi Experiment                    Home Food, Healthy Food, Indian   \n",
       "94  Corner House Ice Cream                                Ice Cream, Desserts   \n",
       "82       Natural Ice Cream                                          Ice Cream   \n",
       "80             Chinese Bae                                      Chinese, Thai   \n",
       "3                  Al Daaz  American, Arabian, Chinese, Desserts, Fast Foo...   \n",
       "\n",
       "                               Location Rating Cost_for_Two          Town  \\\n",
       "78             Koramangala, Koramangala    4.8        ₹ 200   Koramangala   \n",
       "94               7th Block, Koramangala    4.6        ₹ 250   Koramangala   \n",
       "82  Near Wipro Park Signal, Koramangala    4.6        ₹ 150   Koramangala   \n",
       "80                             BTM, BTM    4.5        ₹ 450           BTM   \n",
       "3                              HSR, HSR    4.4        ₹ 400           HSR   \n",
       "\n",
       "                      Area  \n",
       "78             Koramangala  \n",
       "94               7th Block  \n",
       "82  Near Wipro Park Signal  \n",
       "80                     BTM  \n",
       "3                      HSR  "
      ]
     },
     "execution_count": 103,
     "metadata": {},
     "output_type": "execute_result"
    }
   ],
   "source": [
    "df.sort_values(by=[\"Rating\"],ascending=False).head()"
   ]
  },
  {
   "cell_type": "markdown",
   "id": "f8c5d824-b2b2-429c-902c-3b77d3fcc070",
   "metadata": {},
   "source": [
    "# Conclusion\n",
    "* Top 5 highest Rating shops in Bangalore are khichidi Experiment,Corner House Ice Cream,Natural ice Cream,Chinese Bae,Al Daaz."
   ]
  },
  {
   "cell_type": "markdown",
   "id": "37f7ab58-6d24-4b3a-8ae5-7ef9928a87bd",
   "metadata": {},
   "source": [
    "# Which are the cheapest Shops in Bangalore?"
   ]
  },
  {
   "cell_type": "code",
   "execution_count": 105,
   "id": "adf87fca-60bb-4bb0-bd01-057d723fb2d7",
   "metadata": {},
   "outputs": [
    {
     "data": {
      "text/html": [
       "<div>\n",
       "<style scoped>\n",
       "    .dataframe tbody tr th:only-of-type {\n",
       "        vertical-align: middle;\n",
       "    }\n",
       "\n",
       "    .dataframe tbody tr th {\n",
       "        vertical-align: top;\n",
       "    }\n",
       "\n",
       "    .dataframe thead th {\n",
       "        text-align: right;\n",
       "    }\n",
       "</style>\n",
       "<table border=\"1\" class=\"dataframe\">\n",
       "  <thead>\n",
       "    <tr style=\"text-align: right;\">\n",
       "      <th></th>\n",
       "      <th>Shop_Name</th>\n",
       "      <th>Cuisine</th>\n",
       "      <th>Location</th>\n",
       "      <th>Rating</th>\n",
       "      <th>Cost_for_Two</th>\n",
       "      <th>Town</th>\n",
       "      <th>Area</th>\n",
       "    </tr>\n",
       "  </thead>\n",
       "  <tbody>\n",
       "    <tr>\n",
       "      <th>79</th>\n",
       "      <td>Tandoori Merchant</td>\n",
       "      <td>Andhra, Biryani, Chinese, Desserts, Fast Food,...</td>\n",
       "      <td>4th Cross, BTM</td>\n",
       "      <td>4.2</td>\n",
       "      <td>₹ 100</td>\n",
       "      <td>BTM</td>\n",
       "      <td>4th Cross</td>\n",
       "    </tr>\n",
       "    <tr>\n",
       "      <th>89</th>\n",
       "      <td>99 VARIETY DOSA AND JUICE-Malli mane food court</td>\n",
       "      <td>Fast Food, Juices, North Indian</td>\n",
       "      <td>Koramangala 1st block, Koramangala</td>\n",
       "      <td>4.1</td>\n",
       "      <td>₹ 100</td>\n",
       "      <td>Koramangala</td>\n",
       "      <td>Koramangala 1st block</td>\n",
       "    </tr>\n",
       "    <tr>\n",
       "      <th>95</th>\n",
       "      <td>NIC Natural Ice Creams</td>\n",
       "      <td>Ice Cream, Desserts</td>\n",
       "      <td>Koramangla, Koramangala</td>\n",
       "      <td>4.2</td>\n",
       "      <td>₹ 120</td>\n",
       "      <td>Koramangala</td>\n",
       "      <td>Koramangla</td>\n",
       "    </tr>\n",
       "    <tr>\n",
       "      <th>2</th>\n",
       "      <td>Sri Krishna sagar</td>\n",
       "      <td>South Indian, North Indian, Fast Food, Beverag...</td>\n",
       "      <td>6th Block, Koramangala</td>\n",
       "      <td>4.1</td>\n",
       "      <td>₹ 126</td>\n",
       "      <td>Koramangala</td>\n",
       "      <td>6th Block</td>\n",
       "    </tr>\n",
       "    <tr>\n",
       "      <th>21</th>\n",
       "      <td>Maa Di Hatti</td>\n",
       "      <td>Chinese, Healthy Food, North Indian</td>\n",
       "      <td>Jakkasandra Extn, Koramangala</td>\n",
       "      <td>4</td>\n",
       "      <td>₹ 129</td>\n",
       "      <td>Koramangala</td>\n",
       "      <td>Jakkasandra Extn</td>\n",
       "    </tr>\n",
       "  </tbody>\n",
       "</table>\n",
       "</div>"
      ],
      "text/plain": [
       "                                          Shop_Name  \\\n",
       "79                                Tandoori Merchant   \n",
       "89  99 VARIETY DOSA AND JUICE-Malli mane food court   \n",
       "95                           NIC Natural Ice Creams   \n",
       "2                                 Sri Krishna sagar   \n",
       "21                                     Maa Di Hatti   \n",
       "\n",
       "                                              Cuisine  \\\n",
       "79  Andhra, Biryani, Chinese, Desserts, Fast Food,...   \n",
       "89                    Fast Food, Juices, North Indian   \n",
       "95                                Ice Cream, Desserts   \n",
       "2   South Indian, North Indian, Fast Food, Beverag...   \n",
       "21                Chinese, Healthy Food, North Indian   \n",
       "\n",
       "                              Location Rating Cost_for_Two          Town  \\\n",
       "79                      4th Cross, BTM    4.2        ₹ 100           BTM   \n",
       "89  Koramangala 1st block, Koramangala    4.1        ₹ 100   Koramangala   \n",
       "95             Koramangla, Koramangala    4.2        ₹ 120   Koramangala   \n",
       "2               6th Block, Koramangala    4.1        ₹ 126   Koramangala   \n",
       "21       Jakkasandra Extn, Koramangala      4        ₹ 129   Koramangala   \n",
       "\n",
       "                     Area  \n",
       "79              4th Cross  \n",
       "89  Koramangala 1st block  \n",
       "95             Koramangla  \n",
       "2               6th Block  \n",
       "21       Jakkasandra Extn  "
      ]
     },
     "execution_count": 105,
     "metadata": {},
     "output_type": "execute_result"
    }
   ],
   "source": [
    "df.sort_values(by=[\"Cost_for_Two\"],ascending=True).head()"
   ]
  },
  {
   "cell_type": "markdown",
   "id": "4807c063-70d1-483f-82ac-b8ed6e0f7bd3",
   "metadata": {},
   "source": [
    "# Conclusion \n",
    "* The Cheapest shops in Bangalore are Tandoori merchant,99 Variety dosa and juice,NIC natural ice creams,Sri krishna sagar,Maa Di Hatti"
   ]
  },
  {
   "cell_type": "code",
   "execution_count": null,
   "id": "5f2fe2d7-8c4b-4f56-89f7-1279b8fe754a",
   "metadata": {},
   "outputs": [],
   "source": []
  }
 ],
 "metadata": {
  "kernelspec": {
   "display_name": "Python 3 (ipykernel)",
   "language": "python",
   "name": "python3"
  },
  "language_info": {
   "codemirror_mode": {
    "name": "ipython",
    "version": 3
   },
   "file_extension": ".py",
   "mimetype": "text/x-python",
   "name": "python",
   "nbconvert_exporter": "python",
   "pygments_lexer": "ipython3",
   "version": "3.10.8"
  }
 },
 "nbformat": 4,
 "nbformat_minor": 5
}
